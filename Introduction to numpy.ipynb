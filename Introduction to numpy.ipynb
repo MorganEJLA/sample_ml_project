{
 "cells": [
  {
   "cell_type": "code",
   "execution_count": 1,
   "id": "06d4622a",
   "metadata": {},
   "outputs": [
    {
     "name": "stdout",
     "output_type": "stream",
     "text": [
      "Requirement already satisfied: numpy in /Users/morganjones/miniconda3/lib/python3.10/site-packages (1.25.1)\n",
      "Note: you may need to restart the kernel to use updated packages.\n"
     ]
    }
   ],
   "source": [
    "pip install numpy"
   ]
  },
  {
   "cell_type": "code",
   "execution_count": 2,
   "id": "09b37cab",
   "metadata": {},
   "outputs": [],
   "source": [
    "import numpy as np"
   ]
  },
  {
   "cell_type": "markdown",
   "id": "b2226c17",
   "metadata": {},
   "source": [
    "## DataTypes & Attributes"
   ]
  },
  {
   "cell_type": "code",
   "execution_count": 3,
   "id": "673cce49",
   "metadata": {},
   "outputs": [
    {
     "data": {
      "text/plain": [
       "array([1, 2, 3])"
      ]
     },
     "execution_count": 3,
     "metadata": {},
     "output_type": "execute_result"
    }
   ],
   "source": [
    "#NumPY's main datatype is ndarray\n",
    "a1 = np.array([1,2,3])\n",
    "a1"
   ]
  },
  {
   "cell_type": "code",
   "execution_count": 4,
   "id": "17d1b639",
   "metadata": {},
   "outputs": [
    {
     "data": {
      "text/plain": [
       "numpy.ndarray"
      ]
     },
     "execution_count": 4,
     "metadata": {},
     "output_type": "execute_result"
    }
   ],
   "source": [
    "type(a1)"
   ]
  },
  {
   "cell_type": "code",
   "execution_count": 5,
   "id": "5cae5609",
   "metadata": {},
   "outputs": [],
   "source": [
    "a2 = np.array([[1,2,3.3], [4,5,6.4]])\n",
    "\n",
    "a3= np.array([[[1,2,3],\n",
    "               [4,5,6],\n",
    "               [7,8,9]],\n",
    "               [[10,11,12],\n",
    "               [13,14,15],\n",
    "               [16,17,18]]])\n"
   ]
  },
  {
   "cell_type": "code",
   "execution_count": 6,
   "id": "215a243f",
   "metadata": {},
   "outputs": [
    {
     "data": {
      "text/plain": [
       "array([[1. , 2. , 3.3],\n",
       "       [4. , 5. , 6.4]])"
      ]
     },
     "execution_count": 6,
     "metadata": {},
     "output_type": "execute_result"
    }
   ],
   "source": [
    "a2"
   ]
  },
  {
   "cell_type": "code",
   "execution_count": 7,
   "id": "0215789d",
   "metadata": {},
   "outputs": [
    {
     "data": {
      "text/plain": [
       "array([[[ 1,  2,  3],\n",
       "        [ 4,  5,  6],\n",
       "        [ 7,  8,  9]],\n",
       "\n",
       "       [[10, 11, 12],\n",
       "        [13, 14, 15],\n",
       "        [16, 17, 18]]])"
      ]
     },
     "execution_count": 7,
     "metadata": {},
     "output_type": "execute_result"
    }
   ],
   "source": [
    "a3"
   ]
  },
  {
   "cell_type": "code",
   "execution_count": 8,
   "id": "365a3650",
   "metadata": {},
   "outputs": [
    {
     "data": {
      "text/plain": [
       "(3,)"
      ]
     },
     "execution_count": 8,
     "metadata": {},
     "output_type": "execute_result"
    }
   ],
   "source": [
    "a1.shape"
   ]
  },
  {
   "cell_type": "code",
   "execution_count": 9,
   "id": "4d8aa1fb",
   "metadata": {},
   "outputs": [
    {
     "data": {
      "text/plain": [
       "(2, 3)"
      ]
     },
     "execution_count": 9,
     "metadata": {},
     "output_type": "execute_result"
    }
   ],
   "source": [
    "a2.shape"
   ]
  },
  {
   "cell_type": "code",
   "execution_count": 10,
   "id": "bd62b740",
   "metadata": {},
   "outputs": [
    {
     "data": {
      "text/plain": [
       "(2, 3, 3)"
      ]
     },
     "execution_count": 10,
     "metadata": {},
     "output_type": "execute_result"
    }
   ],
   "source": [
    "a3.shape"
   ]
  },
  {
   "cell_type": "code",
   "execution_count": 11,
   "id": "83467f94",
   "metadata": {},
   "outputs": [
    {
     "data": {
      "text/plain": [
       "(1, 2, 3)"
      ]
     },
     "execution_count": 11,
     "metadata": {},
     "output_type": "execute_result"
    }
   ],
   "source": [
    "a1.ndim,a2.ndim,a3.ndim"
   ]
  },
  {
   "cell_type": "code",
   "execution_count": null,
   "id": "4b5d0191",
   "metadata": {},
   "outputs": [],
   "source": [
    "a1.dtype,a2.dtype,a3.dtype"
   ]
  },
  {
   "cell_type": "code",
   "execution_count": null,
   "id": "2dbecf27",
   "metadata": {},
   "outputs": [],
   "source": [
    "a1.size, a2.size,a3.size"
   ]
  },
  {
   "cell_type": "code",
   "execution_count": null,
   "id": "669d36dd",
   "metadata": {},
   "outputs": [],
   "source": [
    "type(a1),type(a2),type(a3)"
   ]
  },
  {
   "cell_type": "code",
   "execution_count": null,
   "id": "620d312d",
   "metadata": {},
   "outputs": [],
   "source": [
    "#Create a DataFrame from a NumPy array\n",
    "import pandas as pd\n",
    "\n",
    "df = pd.DataFrame(a2)\n",
    "df"
   ]
  },
  {
   "cell_type": "markdown",
   "id": "96de4595",
   "metadata": {},
   "source": [
    "## 2. Creating arrays "
   ]
  },
  {
   "cell_type": "code",
   "execution_count": 12,
   "id": "c028028c",
   "metadata": {},
   "outputs": [
    {
     "data": {
      "text/plain": [
       "array([1, 2, 3])"
      ]
     },
     "execution_count": 12,
     "metadata": {},
     "output_type": "execute_result"
    }
   ],
   "source": [
    "sample_array = np.array([1,2,3])\n",
    "sample_array"
   ]
  },
  {
   "cell_type": "code",
   "execution_count": null,
   "id": "5a22ebcc",
   "metadata": {},
   "outputs": [],
   "source": [
    "sample_array.dtype"
   ]
  },
  {
   "cell_type": "code",
   "execution_count": 13,
   "id": "f62cae34",
   "metadata": {},
   "outputs": [],
   "source": [
    "#What wanted to create a numpy array that was already filled?\n",
    "\n",
    "ones=np.ones((2,2))"
   ]
  },
  {
   "cell_type": "code",
   "execution_count": null,
   "id": "816a0e70",
   "metadata": {},
   "outputs": [],
   "source": [
    "ones"
   ]
  },
  {
   "cell_type": "code",
   "execution_count": null,
   "id": "d08553a0",
   "metadata": {},
   "outputs": [],
   "source": [
    "ones.dtype"
   ]
  },
  {
   "cell_type": "code",
   "execution_count": 14,
   "id": "4d4d76a2",
   "metadata": {},
   "outputs": [
    {
     "data": {
      "text/plain": [
       "numpy.ndarray"
      ]
     },
     "execution_count": 14,
     "metadata": {},
     "output_type": "execute_result"
    }
   ],
   "source": [
    "type(ones)"
   ]
  },
  {
   "cell_type": "code",
   "execution_count": 15,
   "id": "8d03880a",
   "metadata": {},
   "outputs": [],
   "source": [
    "zeros=np.zeros((4,4))"
   ]
  },
  {
   "cell_type": "code",
   "execution_count": null,
   "id": "487c44f9",
   "metadata": {},
   "outputs": [],
   "source": [
    "zeros"
   ]
  },
  {
   "cell_type": "code",
   "execution_count": 16,
   "id": "e27521eb",
   "metadata": {},
   "outputs": [],
   "source": [
    "range_array=np.arange(0,10,2)"
   ]
  },
  {
   "cell_type": "code",
   "execution_count": null,
   "id": "121ff9cb",
   "metadata": {},
   "outputs": [],
   "source": [
    "range_array"
   ]
  },
  {
   "cell_type": "code",
   "execution_count": 17,
   "id": "b33e2b29",
   "metadata": {},
   "outputs": [
    {
     "data": {
      "text/plain": [
       "array([[1, 3, 3, 9, 7],\n",
       "       [8, 3, 9, 3, 9],\n",
       "       [0, 6, 9, 2, 3]])"
      ]
     },
     "execution_count": 17,
     "metadata": {},
     "output_type": "execute_result"
    }
   ],
   "source": [
    "random_array = np.random.randint(0,10,size=(3,5))\n",
    "random_array\n"
   ]
  },
  {
   "cell_type": "code",
   "execution_count": null,
   "id": "5fd326a7",
   "metadata": {},
   "outputs": [],
   "source": [
    "random_array.size"
   ]
  },
  {
   "cell_type": "code",
   "execution_count": null,
   "id": "f884c93f",
   "metadata": {},
   "outputs": [],
   "source": [
    "random_array.shape"
   ]
  },
  {
   "cell_type": "code",
   "execution_count": 18,
   "id": "24d0a179",
   "metadata": {},
   "outputs": [],
   "source": [
    "random_array_2=np.random.random((5,3))"
   ]
  },
  {
   "cell_type": "code",
   "execution_count": null,
   "id": "e2fd7f3f",
   "metadata": {},
   "outputs": [],
   "source": [
    "random_array_2"
   ]
  },
  {
   "cell_type": "code",
   "execution_count": null,
   "id": "9e96b5b8",
   "metadata": {},
   "outputs": [],
   "source": [
    "random_array_2.shape\n",
    "#result is (rows,columns). "
   ]
  },
  {
   "cell_type": "code",
   "execution_count": 19,
   "id": "5369486a",
   "metadata": {},
   "outputs": [
    {
     "data": {
      "text/plain": [
       "array([[0.08019759, 0.49692221, 0.86444239],\n",
       "       [0.31593008, 0.31302706, 0.04911969],\n",
       "       [0.24690387, 0.50740698, 0.27989781],\n",
       "       [0.08443723, 0.07017414, 0.20658007],\n",
       "       [0.73346381, 0.70633003, 0.58440826]])"
      ]
     },
     "execution_count": 19,
     "metadata": {},
     "output_type": "execute_result"
    }
   ],
   "source": [
    "\n",
    "random_array_3 = np.random.rand(5,3)\n",
    "random_array_3"
   ]
  },
  {
   "cell_type": "code",
   "execution_count": 21,
   "id": "89055e37",
   "metadata": {},
   "outputs": [
    {
     "data": {
      "text/plain": [
       "array([[0, 3, 1],\n",
       "       [8, 1, 3],\n",
       "       [8, 5, 6],\n",
       "       [0, 6, 0],\n",
       "       [4, 0, 9]])"
      ]
     },
     "execution_count": 21,
     "metadata": {},
     "output_type": "execute_result"
    }
   ],
   "source": [
    "#Pseudo-random numbers\n",
    "np.random.seed(seed=99999)\n",
    "random_array_4=np.random.randint(10,size=(5,3))\n",
    "random_array_4\n",
    "#How would you find unique elements in random arrays? "
   ]
  },
  {
   "cell_type": "code",
   "execution_count": 22,
   "id": "31bc431f",
   "metadata": {},
   "outputs": [
    {
     "data": {
      "text/plain": [
       "array([[0.07630829, 0.77991879, 0.43840923],\n",
       "       [0.72346518, 0.97798951, 0.53849587],\n",
       "       [0.50112046, 0.07205113, 0.26843898],\n",
       "       [0.4998825 , 0.67923   , 0.80373904],\n",
       "       [0.38094113, 0.06593635, 0.2881456 ]])"
      ]
     },
     "execution_count": 22,
     "metadata": {},
     "output_type": "execute_result"
    }
   ],
   "source": [
    "np.random.seed(seed=7)\n",
    "# For someone else to use our notebook and get same results in our experiments. \n",
    "random_array_5=np.random.random((5,3))\n",
    "random_array_5"
   ]
  },
  {
   "cell_type": "code",
   "execution_count": 23,
   "id": "5d77f2f2",
   "metadata": {},
   "outputs": [
    {
     "data": {
      "text/plain": [
       "array([[0.90959353, 0.21338535, 0.45212396],\n",
       "       [0.93120602, 0.02489923, 0.60054892],\n",
       "       [0.9501295 , 0.23030288, 0.54848992],\n",
       "       [0.90912837, 0.13316945, 0.52341258],\n",
       "       [0.75040986, 0.66901324, 0.46775286]])"
      ]
     },
     "execution_count": 23,
     "metadata": {},
     "output_type": "execute_result"
    }
   ],
   "source": [
    "random_array_5=np.random.random((5,3))\n",
    "random_array_5"
   ]
  },
  {
   "cell_type": "markdown",
   "id": "1ff7594d",
   "metadata": {},
   "source": [
    "## 3.Viewing arrays and Matrices"
   ]
  },
  {
   "cell_type": "code",
   "execution_count": null,
   "id": "2e32d2ee",
   "metadata": {},
   "outputs": [],
   "source": [
    "np.unique(random_array_4)"
   ]
  },
  {
   "cell_type": "code",
   "execution_count": null,
   "id": "08756b3a",
   "metadata": {},
   "outputs": [],
   "source": [
    "a1[0]"
   ]
  },
  {
   "cell_type": "code",
   "execution_count": null,
   "id": "88c98396",
   "metadata": {},
   "outputs": [],
   "source": [
    "a2[0]"
   ]
  },
  {
   "cell_type": "code",
   "execution_count": null,
   "id": "c68ec477",
   "metadata": {},
   "outputs": [],
   "source": [
    "a2.shape"
   ]
  },
  {
   "cell_type": "code",
   "execution_count": null,
   "id": "fe89360e",
   "metadata": {},
   "outputs": [],
   "source": [
    "a2"
   ]
  },
  {
   "cell_type": "code",
   "execution_count": null,
   "id": "53da9e33",
   "metadata": {},
   "outputs": [],
   "source": [
    "a2[1]"
   ]
  },
  {
   "cell_type": "code",
   "execution_count": null,
   "id": "ef86f233",
   "metadata": {},
   "outputs": [],
   "source": [
    "a3[:]"
   ]
  },
  {
   "cell_type": "code",
   "execution_count": null,
   "id": "727181ed",
   "metadata": {},
   "outputs": [],
   "source": [
    "a3[:2,:2,:2]\n",
    "#first two values of the above arrays"
   ]
  },
  {
   "cell_type": "code",
   "execution_count": 24,
   "id": "30255a62",
   "metadata": {},
   "outputs": [
    {
     "data": {
      "text/plain": [
       "array([[[[6, 7, 7, 9, 3],\n",
       "         [0, 7, 7, 7, 0],\n",
       "         [5, 4, 3, 1, 3],\n",
       "         [1, 3, 4, 3, 1]],\n",
       "\n",
       "        [[9, 5, 9, 1, 2],\n",
       "         [3, 2, 2, 5, 7],\n",
       "         [3, 0, 9, 9, 3],\n",
       "         [4, 5, 3, 0, 4]],\n",
       "\n",
       "        [[8, 6, 7, 2, 7],\n",
       "         [3, 8, 6, 6, 5],\n",
       "         [6, 5, 7, 1, 5],\n",
       "         [4, 4, 9, 9, 0]]],\n",
       "\n",
       "\n",
       "       [[[6, 2, 6, 8, 2],\n",
       "         [4, 1, 6, 1, 5],\n",
       "         [1, 6, 9, 8, 6],\n",
       "         [5, 9, 7, 5, 4]],\n",
       "\n",
       "        [[9, 6, 8, 1, 5],\n",
       "         [5, 8, 3, 7, 7],\n",
       "         [9, 4, 7, 5, 9],\n",
       "         [6, 2, 0, 5, 3]],\n",
       "\n",
       "        [[0, 5, 7, 1, 8],\n",
       "         [4, 9, 0, 2, 0],\n",
       "         [7, 6, 2, 9, 9],\n",
       "         [5, 1, 0, 0, 9]]]])"
      ]
     },
     "execution_count": 24,
     "metadata": {},
     "output_type": "execute_result"
    }
   ],
   "source": [
    "a4 = np.random.randint(10,size=(2,3,4,5))\n",
    "a4"
   ]
  },
  {
   "cell_type": "code",
   "execution_count": 25,
   "id": "5cdca119",
   "metadata": {},
   "outputs": [
    {
     "data": {
      "text/plain": [
       "((2, 3, 4, 5), 4)"
      ]
     },
     "execution_count": 25,
     "metadata": {},
     "output_type": "execute_result"
    }
   ],
   "source": [
    "a4.shape,a4.ndim\n",
    "#shape is two by three by four by five, and dim is the number of dims."
   ]
  },
  {
   "cell_type": "code",
   "execution_count": 26,
   "id": "747b4f0b",
   "metadata": {},
   "outputs": [
    {
     "data": {
      "text/plain": [
       "array([[[[6, 7, 7, 9],\n",
       "         [0, 7, 7, 7],\n",
       "         [5, 4, 3, 1],\n",
       "         [1, 3, 4, 3]],\n",
       "\n",
       "        [[9, 5, 9, 1],\n",
       "         [3, 2, 2, 5],\n",
       "         [3, 0, 9, 9],\n",
       "         [4, 5, 3, 0]],\n",
       "\n",
       "        [[8, 6, 7, 2],\n",
       "         [3, 8, 6, 6],\n",
       "         [6, 5, 7, 1],\n",
       "         [4, 4, 9, 9]]],\n",
       "\n",
       "\n",
       "       [[[6, 2, 6, 8],\n",
       "         [4, 1, 6, 1],\n",
       "         [1, 6, 9, 8],\n",
       "         [5, 9, 7, 5]],\n",
       "\n",
       "        [[9, 6, 8, 1],\n",
       "         [5, 8, 3, 7],\n",
       "         [9, 4, 7, 5],\n",
       "         [6, 2, 0, 5]],\n",
       "\n",
       "        [[0, 5, 7, 1],\n",
       "         [4, 9, 0, 2],\n",
       "         [7, 6, 2, 9],\n",
       "         [5, 1, 0, 0]]]])"
      ]
     },
     "execution_count": 26,
     "metadata": {},
     "output_type": "execute_result"
    }
   ],
   "source": [
    "#how would we get first four numbers of one of the vectors? \n",
    "#Numpy displays from the outside integer inward - \n",
    "#get the first 4 numbers of the inner most array\n",
    "a4[:,:,:,:4]"
   ]
  },
  {
   "cell_type": "markdown",
   "id": "86126899",
   "metadata": {},
   "source": [
    "## 4. Manipulate Arrays"
   ]
  },
  {
   "cell_type": "markdown",
   "id": "dce92b75",
   "metadata": {},
   "source": [
    "## Arithmetic"
   ]
  },
  {
   "cell_type": "code",
   "execution_count": null,
   "id": "67d549b3",
   "metadata": {},
   "outputs": [],
   "source": [
    "a1"
   ]
  },
  {
   "cell_type": "code",
   "execution_count": null,
   "id": "6a379466",
   "metadata": {},
   "outputs": [],
   "source": [
    "ones = np.ones(3)\n",
    "ones"
   ]
  },
  {
   "cell_type": "code",
   "execution_count": null,
   "id": "7915ccbb",
   "metadata": {},
   "outputs": [],
   "source": [
    "a1 + ones"
   ]
  },
  {
   "cell_type": "code",
   "execution_count": null,
   "id": "d4745bb8",
   "metadata": {},
   "outputs": [],
   "source": [
    "a1 - ones"
   ]
  },
  {
   "cell_type": "code",
   "execution_count": null,
   "id": "835f3e49",
   "metadata": {},
   "outputs": [],
   "source": [
    "a1 * ones"
   ]
  },
  {
   "cell_type": "code",
   "execution_count": null,
   "id": "a111a449",
   "metadata": {},
   "outputs": [],
   "source": [
    "a2"
   ]
  },
  {
   "cell_type": "code",
   "execution_count": null,
   "id": "25a5b8a0",
   "metadata": {},
   "outputs": [],
   "source": [
    "a1 * a2\n",
    "# takes the top row multiplies it by the top row of a2."
   ]
  },
  {
   "cell_type": "code",
   "execution_count": null,
   "id": "f0ce1505",
   "metadata": {},
   "outputs": [],
   "source": [
    "3 * 3.3"
   ]
  },
  {
   "cell_type": "code",
   "execution_count": null,
   "id": "8bc9e50c",
   "metadata": {},
   "outputs": [],
   "source": [
    "a2 * a3\n"
   ]
  },
  {
   "cell_type": "markdown",
   "id": "c8eb0647",
   "metadata": {},
   "source": [
    "## broadcast describes how numpy treats arrays with different shapes during arithmetic operations. \n",
    "## we are trying to use arithmetic on arrays with different shapes. \n",
    "## Subject to current constraints the smaller array is \"broadcast\" across the larger array so that they have compatible shapes\n",
    "## Numpys broadcasting rule relaxes this constraint when the arrays' shapes meet certain constraints"
   ]
  },
  {
   "cell_type": "markdown",
   "id": "e8993cb2",
   "metadata": {},
   "source": [
    "## When operating on two arrays, NumPy compares their shapes element-wise. It starts with the trailing dimensions and works\n",
    "## its way forward. Two dimensions are compatible when \n",
    "## 1. They are equal, or\n",
    "## 2. one of them is 1. "
   ]
  },
  {
   "cell_type": "code",
   "execution_count": null,
   "id": "f74c2353",
   "metadata": {},
   "outputs": [],
   "source": [
    "#How can I reshape a2 to be compatible with a3? Search:\"How to reshape Numpy array\"\n",
    "a2 * a3"
   ]
  },
  {
   "cell_type": "code",
   "execution_count": null,
   "id": "88d09391",
   "metadata": {},
   "outputs": [],
   "source": [
    "a1 /ones"
   ]
  },
  {
   "cell_type": "code",
   "execution_count": null,
   "id": "476fc601",
   "metadata": {},
   "outputs": [],
   "source": [
    "a2 /a1"
   ]
  },
  {
   "cell_type": "code",
   "execution_count": null,
   "id": "d6141edf",
   "metadata": {},
   "outputs": [],
   "source": [
    "#Floor division removes the decimals (rounds down)\n",
    "a2 // a1 "
   ]
  },
  {
   "cell_type": "code",
   "execution_count": null,
   "id": "9b8eed98",
   "metadata": {},
   "outputs": [],
   "source": [
    "a2 ** 2 \n",
    "#to the power of 2"
   ]
  },
  {
   "cell_type": "code",
   "execution_count": null,
   "id": "d8f17241",
   "metadata": {},
   "outputs": [],
   "source": [
    "np.square(a2)\n",
    "#using ** or square depends on teh workflow. "
   ]
  },
  {
   "cell_type": "code",
   "execution_count": null,
   "id": "dfea3c0f",
   "metadata": {},
   "outputs": [],
   "source": [
    "#adds arguments elements wise\n",
    "np.add(a1,ones)"
   ]
  },
  {
   "cell_type": "code",
   "execution_count": null,
   "id": "342ba16f",
   "metadata": {},
   "outputs": [],
   "source": [
    "a1 % 2"
   ]
  },
  {
   "cell_type": "code",
   "execution_count": null,
   "id": "70a62699",
   "metadata": {},
   "outputs": [],
   "source": [
    "a1 / 2\n",
    "#numpy modulo. Returen element-wise remainder of division"
   ]
  },
  {
   "cell_type": "markdown",
   "id": "a65d4bf3",
   "metadata": {},
   "source": [
    "a2 % 2"
   ]
  },
  {
   "cell_type": "code",
   "execution_count": null,
   "id": "6add80e9",
   "metadata": {},
   "outputs": [],
   "source": [
    "a2 % 2"
   ]
  },
  {
   "cell_type": "code",
   "execution_count": null,
   "id": "e67ce3b9",
   "metadata": {},
   "outputs": [],
   "source": [
    "np.exp(a1)\n",
    "#Exponential of everything in an array"
   ]
  },
  {
   "cell_type": "code",
   "execution_count": null,
   "id": "35757362",
   "metadata": {},
   "outputs": [],
   "source": [
    "np.log(a1)"
   ]
  },
  {
   "cell_type": "markdown",
   "id": "82e3c9e8",
   "metadata": {},
   "source": [
    "## Aggregation "
   ]
  },
  {
   "cell_type": "markdown",
   "id": "296b96e8",
   "metadata": {},
   "source": [
    "<p>Aggregation = performing the same operation on a number of things</p>"
   ]
  },
  {
   "cell_type": "code",
   "execution_count": null,
   "id": "baad5d4f",
   "metadata": {},
   "outputs": [],
   "source": [
    "listy_list = [1,2,3]\n",
    "type(listy_list)"
   ]
  },
  {
   "cell_type": "code",
   "execution_count": null,
   "id": "b3996903",
   "metadata": {},
   "outputs": [],
   "source": [
    "sum(listy_list)"
   ]
  },
  {
   "cell_type": "code",
   "execution_count": null,
   "id": "bbc994fa",
   "metadata": {},
   "outputs": [],
   "source": [
    "type(a1)"
   ]
  },
  {
   "cell_type": "code",
   "execution_count": null,
   "id": "d0322dc9",
   "metadata": {},
   "outputs": [],
   "source": [
    "sum(a1)"
   ]
  },
  {
   "cell_type": "code",
   "execution_count": null,
   "id": "13b775d4",
   "metadata": {},
   "outputs": [],
   "source": [
    "np.sum(a1)"
   ]
  },
  {
   "cell_type": "markdown",
   "id": "bf8b3aab",
   "metadata": {},
   "source": [
    "## Use Python's methods (`sum()`) on Python datatypes and use \n",
    "## NumPy's methods on NumPy arrays(`np.sum()`)."
   ]
  },
  {
   "cell_type": "code",
   "execution_count": null,
   "id": "b2e8e276",
   "metadata": {},
   "outputs": [],
   "source": [
    "#Create a massive NumPy array\n",
    "massive_array = np.random.random(10000)\n",
    "massive_array.size"
   ]
  },
  {
   "cell_type": "code",
   "execution_count": null,
   "id": "8bc143e8",
   "metadata": {},
   "outputs": [],
   "source": [
    "massive_array[:100]"
   ]
  },
  {
   "cell_type": "code",
   "execution_count": null,
   "id": "25672614",
   "metadata": {},
   "outputs": [],
   "source": [
    "%timeit \n",
    "#times how long a particular line of code takes to run\n",
    "%timeit sum(massive_array)\n",
    "%timeit np.sum(massive_array)\n",
    "#if working with numpy data, use Numpy methods. \n",
    "# if working with datatypes use Python methods."
   ]
  },
  {
   "cell_type": "code",
   "execution_count": null,
   "id": "f624d110",
   "metadata": {},
   "outputs": [],
   "source": [
    "a2"
   ]
  },
  {
   "cell_type": "code",
   "execution_count": null,
   "id": "eacb7102",
   "metadata": {},
   "outputs": [],
   "source": [
    "np.mean(a2)"
   ]
  },
  {
   "cell_type": "code",
   "execution_count": null,
   "id": "6cf3ffd5",
   "metadata": {},
   "outputs": [],
   "source": [
    "np.max(a2)"
   ]
  },
  {
   "cell_type": "code",
   "execution_count": null,
   "id": "fa48f50e",
   "metadata": {},
   "outputs": [],
   "source": [
    "np.min(a2)"
   ]
  },
  {
   "cell_type": "code",
   "execution_count": null,
   "id": "172b6f41",
   "metadata": {},
   "outputs": [],
   "source": [
    "np.std(a2)\n",
    "#standard deviation -measure of how spread out a group of numbers is from the mean. along specified axis"
   ]
  },
  {
   "cell_type": "code",
   "execution_count": null,
   "id": "cfd814a1",
   "metadata": {},
   "outputs": [],
   "source": [
    "# Variance = measure of the average degree to which each number is different to the mean\n",
    "# Higher variance = wider range of numbers\n",
    "#Lower variance = lower range of numbers\n",
    "np.var(a2)"
   ]
  },
  {
   "cell_type": "code",
   "execution_count": null,
   "id": "94cf8996",
   "metadata": {},
   "outputs": [],
   "source": [
    "#standard deviation = squareroot of variance. Same result as output 53. \n",
    "np.sqrt(np.var(a2))"
   ]
  },
  {
   "cell_type": "code",
   "execution_count": null,
   "id": "93c845a4",
   "metadata": {},
   "outputs": [],
   "source": [
    "# Demo of std and var \n",
    "high_var_array = np.array([1,100,200,300,4000,5000])\n",
    "low_var_array = np.array([2,4,6,8,10])"
   ]
  },
  {
   "cell_type": "code",
   "execution_count": null,
   "id": "bf0d5378",
   "metadata": {},
   "outputs": [],
   "source": [
    "np.var(high_var_array), np.var(low_var_array)"
   ]
  },
  {
   "cell_type": "code",
   "execution_count": null,
   "id": "7e846e61",
   "metadata": {},
   "outputs": [],
   "source": [
    "np.std(high_var_array), np.std(low_var_array\n",
    "                               #std is the standard difference the number is away from the mean"
   ]
  },
  {
   "cell_type": "code",
   "execution_count": null,
   "id": "318da16e",
   "metadata": {},
   "outputs": [],
   "source": [
    "np.mean(high_var_array), np.mean(low_var_array)"
   ]
  },
  {
   "cell_type": "code",
   "execution_count": 27,
   "id": "643f90d4",
   "metadata": {},
   "outputs": [
    {
     "name": "stdout",
     "output_type": "stream",
     "text": [
      "Requirement already satisfied: matplotlib in /Users/morganjones/miniconda3/lib/python3.10/site-packages (3.7.2)\n",
      "Requirement already satisfied: packaging>=20.0 in /Users/morganjones/miniconda3/lib/python3.10/site-packages (from matplotlib) (23.1)\n",
      "Requirement already satisfied: numpy>=1.20 in /Users/morganjones/miniconda3/lib/python3.10/site-packages (from matplotlib) (1.25.1)\n",
      "Requirement already satisfied: contourpy>=1.0.1 in /Users/morganjones/miniconda3/lib/python3.10/site-packages (from matplotlib) (1.1.0)\n",
      "Requirement already satisfied: fonttools>=4.22.0 in /Users/morganjones/miniconda3/lib/python3.10/site-packages (from matplotlib) (4.41.1)\n",
      "Requirement already satisfied: pyparsing<3.1,>=2.3.1 in /Users/morganjones/miniconda3/lib/python3.10/site-packages (from matplotlib) (3.0.9)\n",
      "Requirement already satisfied: cycler>=0.10 in /Users/morganjones/miniconda3/lib/python3.10/site-packages (from matplotlib) (0.11.0)\n",
      "Requirement already satisfied: pillow>=6.2.0 in /Users/morganjones/miniconda3/lib/python3.10/site-packages (from matplotlib) (10.0.0)\n",
      "Requirement already satisfied: python-dateutil>=2.7 in /Users/morganjones/miniconda3/lib/python3.10/site-packages (from matplotlib) (2.8.2)\n",
      "Requirement already satisfied: kiwisolver>=1.0.1 in /Users/morganjones/miniconda3/lib/python3.10/site-packages (from matplotlib) (1.4.4)\n",
      "Requirement already satisfied: six>=1.5 in /Users/morganjones/miniconda3/lib/python3.10/site-packages (from python-dateutil>=2.7->matplotlib) (1.16.0)\n",
      "Note: you may need to restart the kernel to use updated packages.\n"
     ]
    }
   ],
   "source": [
    "pip install matplotlib"
   ]
  },
  {
   "cell_type": "code",
   "execution_count": null,
   "id": "f5bc1282",
   "metadata": {},
   "outputs": [],
   "source": [
    "%matplotlib inline\n",
    "import matplotlib.pyplot as plt\n",
    "plt.hist(high_var_array)\n",
    "plt.show()"
   ]
  },
  {
   "cell_type": "markdown",
   "id": "790cd085",
   "metadata": {},
   "source": [
    "## <p>Can see from chart here that the spread of numbers, more white space, more numbers are closer to zero.</p>"
   ]
  },
  {
   "cell_type": "code",
   "execution_count": null,
   "id": "94261f7e",
   "metadata": {},
   "outputs": [],
   "source": [
    "plt.hist(low_var_array)\n",
    "plt.show()\n"
   ]
  },
  {
   "cell_type": "markdown",
   "id": "75b333cf",
   "metadata": {},
   "source": [
    "## spread is similar across the whole thing. "
   ]
  },
  {
   "cell_type": "markdown",
   "id": "ed67f5a1",
   "metadata": {},
   "source": [
    "## 5. Reshaping and Transpose "
   ]
  },
  {
   "cell_type": "code",
   "execution_count": null,
   "id": "e80a0c5f",
   "metadata": {},
   "outputs": [],
   "source": [
    "a2 \n"
   ]
  },
  {
   "cell_type": "code",
   "execution_count": null,
   "id": "4c0e1ccc",
   "metadata": {},
   "outputs": [],
   "source": [
    "a2.shape"
   ]
  },
  {
   "cell_type": "code",
   "execution_count": null,
   "id": "9070a126",
   "metadata": {},
   "outputs": [],
   "source": [
    "a3"
   ]
  },
  {
   "cell_type": "code",
   "execution_count": null,
   "id": "9c2d9b97",
   "metadata": {},
   "outputs": [],
   "source": [
    "a3.shape"
   ]
  },
  {
   "cell_type": "code",
   "execution_count": null,
   "id": "e5d95e74",
   "metadata": {},
   "outputs": [],
   "source": [
    "#reshape is a method you can call on any array, returns an array containing the same data with a new shape. "
   ]
  },
  {
   "cell_type": "code",
   "execution_count": null,
   "id": "8711000e",
   "metadata": {},
   "outputs": [],
   "source": [
    "#broadcasting = one of the rules of this, NumPy compares the shape of the arrays element wise. Two dimensions are compatible if \n",
    "# one of the arrays is equal or one is 1. \n",
    "\n",
    "#reshape the a2 array. ADD A DIMENSION. "
   ]
  },
  {
   "cell_type": "code",
   "execution_count": null,
   "id": "8c05dc5d",
   "metadata": {},
   "outputs": [],
   "source": [
    "a2.reshape(2,3,1).shape"
   ]
  },
  {
   "cell_type": "code",
   "execution_count": null,
   "id": "1a0da1ad",
   "metadata": {},
   "outputs": [],
   "source": [
    "a3.shape"
   ]
  },
  {
   "cell_type": "code",
   "execution_count": null,
   "id": "19af6660",
   "metadata": {},
   "outputs": [],
   "source": [
    "#one of these has one in the array. \n",
    "a2_reshape = a2.reshape(2,3,1)\n",
    "a2_reshape"
   ]
  },
  {
   "cell_type": "code",
   "execution_count": null,
   "id": "d279a203",
   "metadata": {},
   "outputs": [],
   "source": []
  },
  {
   "cell_type": "code",
   "execution_count": null,
   "id": "8712f7e4",
   "metadata": {},
   "outputs": [],
   "source": [
    "a2_reshape * a3"
   ]
  },
  {
   "cell_type": "code",
   "execution_count": null,
   "id": "ad53bbd6",
   "metadata": {},
   "outputs": [],
   "source": [
    "a2.shape"
   ]
  },
  {
   "cell_type": "code",
   "execution_count": null,
   "id": "4e657d0f",
   "metadata": {},
   "outputs": [],
   "source": [
    "#Transpose\n",
    "a2.T"
   ]
  },
  {
   "cell_type": "code",
   "execution_count": null,
   "id": "0107c384",
   "metadata": {},
   "outputs": [],
   "source": [
    "#Transpose\n",
    "#What has changed? The axis' has been switched. \n",
    "a2.T.shape"
   ]
  },
  {
   "cell_type": "code",
   "execution_count": null,
   "id": "e7bbe1dd",
   "metadata": {},
   "outputs": [],
   "source": [
    "a2.T"
   ]
  },
  {
   "cell_type": "code",
   "execution_count": null,
   "id": "8856471f",
   "metadata": {},
   "outputs": [],
   "source": [
    "a2.T"
   ]
  },
  {
   "cell_type": "code",
   "execution_count": null,
   "id": "6ed173e1",
   "metadata": {},
   "outputs": [],
   "source": [
    "a2.shape"
   ]
  },
  {
   "cell_type": "code",
   "execution_count": null,
   "id": "a940100e",
   "metadata": {},
   "outputs": [],
   "source": [
    "a2"
   ]
  },
  {
   "cell_type": "code",
   "execution_count": null,
   "id": "ff8e3cad",
   "metadata": {},
   "outputs": [],
   "source": [
    "a3"
   ]
  },
  {
   "cell_type": "code",
   "execution_count": null,
   "id": "d02c86c1",
   "metadata": {},
   "outputs": [],
   "source": [
    "a3.shape"
   ]
  },
  {
   "cell_type": "code",
   "execution_count": null,
   "id": "46958bd1",
   "metadata": {},
   "outputs": [],
   "source": [
    "a3.T"
   ]
  },
  {
   "cell_type": "code",
   "execution_count": null,
   "id": "16017069",
   "metadata": {},
   "outputs": [],
   "source": [
    "a3.T.shape"
   ]
  },
  {
   "cell_type": "code",
   "execution_count": null,
   "id": "bd301afc",
   "metadata": {},
   "outputs": [],
   "source": [
    "#When would we use a Transpose\n"
   ]
  },
  {
   "cell_type": "markdown",
   "id": "fc54b2e3",
   "metadata": {},
   "source": [
    "## Dot Product "
   ]
  },
  {
   "cell_type": "code",
   "execution_count": null,
   "id": "868c91e4",
   "metadata": {},
   "outputs": [],
   "source": [
    "np.random.seed(0)\n",
    "\n",
    "mat1=np.random.randint(10, size=(5,3))\n",
    "mat2=np.random.randint(10,size=(5,3))"
   ]
  },
  {
   "cell_type": "code",
   "execution_count": null,
   "id": "fadd4c51",
   "metadata": {},
   "outputs": [],
   "source": [
    "mat2"
   ]
  },
  {
   "cell_type": "code",
   "execution_count": null,
   "id": "fa217f3d",
   "metadata": {},
   "outputs": [],
   "source": [
    "mat1"
   ]
  },
  {
   "cell_type": "code",
   "execution_count": null,
   "id": "a4db50a5",
   "metadata": {},
   "outputs": [],
   "source": [
    "mat2"
   ]
  },
  {
   "cell_type": "code",
   "execution_count": null,
   "id": "184fd011",
   "metadata": {},
   "outputs": [],
   "source": [
    "#Elemet-wise multiplication (Hadamard product)\n",
    "mat1 * mat2"
   ]
  },
  {
   "cell_type": "code",
   "execution_count": null,
   "id": "499f6432",
   "metadata": {},
   "outputs": [],
   "source": [
    "#Dot product\n",
    "np.dot(mat1,mat2)"
   ]
  },
  {
   "cell_type": "code",
   "execution_count": null,
   "id": "5892a071",
   "metadata": {},
   "outputs": [],
   "source": [
    "#How to fix the above error\n",
    "# Use a transpose\n",
    "mat1.T"
   ]
  },
  {
   "cell_type": "code",
   "execution_count": null,
   "id": "c9129273",
   "metadata": {},
   "outputs": [],
   "source": [
    "mat1.T.shape, mat2.T.shape"
   ]
  },
  {
   "cell_type": "markdown",
   "id": "5cc9947c",
   "metadata": {},
   "source": [
    "mat3=np.dot(mat1,mat2.T)\n",
    "mat3"
   ]
  },
  {
   "cell_type": "markdown",
   "id": "407003a3",
   "metadata": {},
   "source": [
    "mat3"
   ]
  },
  {
   "cell_type": "code",
   "execution_count": null,
   "id": "6c5caf62",
   "metadata": {},
   "outputs": [],
   "source": [
    "mat3=np.dot(mat1,mat2.T)\n",
    "mat3"
   ]
  },
  {
   "cell_type": "code",
   "execution_count": null,
   "id": "1ed97739",
   "metadata": {},
   "outputs": [],
   "source": [
    "mat3.shape"
   ]
  },
  {
   "cell_type": "markdown",
   "id": "737efe0d",
   "metadata": {},
   "source": [
    "## Dot Product Example (nut butter sales)"
   ]
  },
  {
   "cell_type": "code",
   "execution_count": 29,
   "id": "7d60e31f",
   "metadata": {},
   "outputs": [
    {
     "data": {
      "text/plain": [
       "array([[12, 15,  0],\n",
       "       [ 3,  3,  7],\n",
       "       [ 9, 19, 18],\n",
       "       [ 4,  6, 12],\n",
       "       [ 1,  6,  7]])"
      ]
     },
     "execution_count": 29,
     "metadata": {},
     "output_type": "execute_result"
    }
   ],
   "source": [
    "np.random.seed(0)\n",
    "#Number of jars sold\n",
    "sales_amounts = np.random.randint(20, size=(5,3))\n",
    "sales_amounts"
   ]
  },
  {
   "cell_type": "code",
   "execution_count": 33,
   "id": "b7c23cb4",
   "metadata": {},
   "outputs": [
    {
     "name": "stdout",
     "output_type": "stream",
     "text": [
      "Collecting pandas\n",
      "  Downloading pandas-2.0.3-cp310-cp310-macosx_11_0_arm64.whl (10.8 MB)\n",
      "\u001b[2K     \u001b[90m━━━━━━━━━━━━━━━━━━━━━━━━━━━━━━━━━━━━━━━━\u001b[0m \u001b[32m10.8/10.8 MB\u001b[0m \u001b[31m54.1 MB/s\u001b[0m eta \u001b[36m0:00:00\u001b[0m00:01\u001b[0m0:01\u001b[0m\n",
      "\u001b[?25hCollecting pytz>=2020.1\n",
      "  Downloading pytz-2023.3-py2.py3-none-any.whl (502 kB)\n",
      "\u001b[2K     \u001b[90m━━━━━━━━━━━━━━━━━━━━━━━━━━━━━━━━━━━━━━\u001b[0m \u001b[32m502.3/502.3 kB\u001b[0m \u001b[31m24.9 MB/s\u001b[0m eta \u001b[36m0:00:00\u001b[0m\n",
      "\u001b[?25hCollecting tzdata>=2022.1\n",
      "  Downloading tzdata-2023.3-py2.py3-none-any.whl (341 kB)\n",
      "\u001b[2K     \u001b[90m━━━━━━━━━━━━━━━━━━━━━━━━━━━━━━━━━━━━━━\u001b[0m \u001b[32m341.8/341.8 kB\u001b[0m \u001b[31m26.6 MB/s\u001b[0m eta \u001b[36m0:00:00\u001b[0m\n",
      "\u001b[?25hRequirement already satisfied: python-dateutil>=2.8.2 in /Users/morganjones/miniconda3/lib/python3.10/site-packages (from pandas) (2.8.2)\n",
      "Requirement already satisfied: numpy>=1.21.0 in /Users/morganjones/miniconda3/lib/python3.10/site-packages (from pandas) (1.25.1)\n",
      "Requirement already satisfied: six>=1.5 in /Users/morganjones/miniconda3/lib/python3.10/site-packages (from python-dateutil>=2.8.2->pandas) (1.16.0)\n",
      "Installing collected packages: pytz, tzdata, pandas\n",
      "Successfully installed pandas-2.0.3 pytz-2023.3 tzdata-2023.3\n",
      "Note: you may need to restart the kernel to use updated packages.\n"
     ]
    }
   ],
   "source": [
    "pip install pandas"
   ]
  },
  {
   "cell_type": "code",
   "execution_count": 34,
   "id": "0971eb57",
   "metadata": {},
   "outputs": [],
   "source": [
    "import pandas as pd"
   ]
  },
  {
   "cell_type": "code",
   "execution_count": 35,
   "id": "e7ddbb8c",
   "metadata": {},
   "outputs": [
    {
     "data": {
      "text/html": [
       "<div>\n",
       "<style scoped>\n",
       "    .dataframe tbody tr th:only-of-type {\n",
       "        vertical-align: middle;\n",
       "    }\n",
       "\n",
       "    .dataframe tbody tr th {\n",
       "        vertical-align: top;\n",
       "    }\n",
       "\n",
       "    .dataframe thead th {\n",
       "        text-align: right;\n",
       "    }\n",
       "</style>\n",
       "<table border=\"1\" class=\"dataframe\">\n",
       "  <thead>\n",
       "    <tr style=\"text-align: right;\">\n",
       "      <th></th>\n",
       "      <th>Almond Butter</th>\n",
       "      <th>Peanut Butter</th>\n",
       "      <th>Cashew Butter</th>\n",
       "    </tr>\n",
       "  </thead>\n",
       "  <tbody>\n",
       "    <tr>\n",
       "      <th>Mon</th>\n",
       "      <td>12</td>\n",
       "      <td>15</td>\n",
       "      <td>0</td>\n",
       "    </tr>\n",
       "    <tr>\n",
       "      <th>Tues</th>\n",
       "      <td>3</td>\n",
       "      <td>3</td>\n",
       "      <td>7</td>\n",
       "    </tr>\n",
       "    <tr>\n",
       "      <th>Wed</th>\n",
       "      <td>9</td>\n",
       "      <td>19</td>\n",
       "      <td>18</td>\n",
       "    </tr>\n",
       "    <tr>\n",
       "      <th>Thurs</th>\n",
       "      <td>4</td>\n",
       "      <td>6</td>\n",
       "      <td>12</td>\n",
       "    </tr>\n",
       "    <tr>\n",
       "      <th>Fri</th>\n",
       "      <td>1</td>\n",
       "      <td>6</td>\n",
       "      <td>7</td>\n",
       "    </tr>\n",
       "  </tbody>\n",
       "</table>\n",
       "</div>"
      ],
      "text/plain": [
       "       Almond Butter  Peanut Butter  Cashew Butter\n",
       "Mon               12             15              0\n",
       "Tues               3              3              7\n",
       "Wed                9             19             18\n",
       "Thurs              4              6             12\n",
       "Fri                1              6              7"
      ]
     },
     "execution_count": 35,
     "metadata": {},
     "output_type": "execute_result"
    }
   ],
   "source": [
    "#Create weekly_sales DataFrame\n",
    "weekly_sales = pd.DataFrame(sales_amounts, index=[\"Mon\", \"Tues\", \"Wed\",\"Thurs\", \"Fri\"],\n",
    "                           columns = [\"Almond Butter\", \"Peanut Butter\", \"Cashew Butter\"])\n",
    "weekly_sales"
   ]
  },
  {
   "cell_type": "code",
   "execution_count": 36,
   "id": "10bb9067",
   "metadata": {},
   "outputs": [
    {
     "data": {
      "text/plain": [
       "array([10,  8, 12])"
      ]
     },
     "execution_count": 36,
     "metadata": {},
     "output_type": "execute_result"
    }
   ],
   "source": [
    "#Create prices array\n",
    "prices = np.array([10,8,12])\n",
    "prices"
   ]
  },
  {
   "cell_type": "code",
   "execution_count": 38,
   "id": "1fbce7c3",
   "metadata": {},
   "outputs": [
    {
     "data": {
      "text/plain": [
       "(3,)"
      ]
     },
     "execution_count": 38,
     "metadata": {},
     "output_type": "execute_result"
    }
   ],
   "source": [
    "prices.shape"
   ]
  },
  {
   "cell_type": "code",
   "execution_count": 40,
   "id": "00bc4e38",
   "metadata": {},
   "outputs": [
    {
     "data": {
      "text/html": [
       "<div>\n",
       "<style scoped>\n",
       "    .dataframe tbody tr th:only-of-type {\n",
       "        vertical-align: middle;\n",
       "    }\n",
       "\n",
       "    .dataframe tbody tr th {\n",
       "        vertical-align: top;\n",
       "    }\n",
       "\n",
       "    .dataframe thead th {\n",
       "        text-align: right;\n",
       "    }\n",
       "</style>\n",
       "<table border=\"1\" class=\"dataframe\">\n",
       "  <thead>\n",
       "    <tr style=\"text-align: right;\">\n",
       "      <th></th>\n",
       "      <th>Almond Butter</th>\n",
       "      <th>Peanut Butter</th>\n",
       "      <th>Cashew Butter</th>\n",
       "    </tr>\n",
       "  </thead>\n",
       "  <tbody>\n",
       "    <tr>\n",
       "      <th>Price</th>\n",
       "      <td>10</td>\n",
       "      <td>8</td>\n",
       "      <td>12</td>\n",
       "    </tr>\n",
       "  </tbody>\n",
       "</table>\n",
       "</div>"
      ],
      "text/plain": [
       "       Almond Butter  Peanut Butter  Cashew Butter\n",
       "Price             10              8             12"
      ]
     },
     "execution_count": 40,
     "metadata": {},
     "output_type": "execute_result"
    }
   ],
   "source": [
    "#Create butter_prices DataFrame\n",
    "butter_prices = pd.DataFrame(prices.reshape(1,3), index=[\"Price\"],\n",
    "                            columns = [\"Almond Butter\", \"Peanut Butter\", \"Cashew Butter\"])\n",
    "butter_prices"
   ]
  },
  {
   "cell_type": "code",
   "execution_count": 41,
   "id": "c2cea249",
   "metadata": {},
   "outputs": [
    {
     "data": {
      "text/plain": [
       "array([10,  8, 12])"
      ]
     },
     "execution_count": 41,
     "metadata": {},
     "output_type": "execute_result"
    }
   ],
   "source": [
    "prices"
   ]
  },
  {
   "cell_type": "code",
   "execution_count": 45,
   "id": "416512fd",
   "metadata": {},
   "outputs": [
    {
     "data": {
      "text/plain": [
       "(5, 3)"
      ]
     },
     "execution_count": 45,
     "metadata": {},
     "output_type": "execute_result"
    }
   ],
   "source": [
    "sales_amounts.shape"
   ]
  },
  {
   "cell_type": "code",
   "execution_count": 43,
   "id": "7b14e620",
   "metadata": {},
   "outputs": [
    {
     "ename": "ValueError",
     "evalue": "shapes (3,) and (5,3) not aligned: 3 (dim 0) != 5 (dim 0)",
     "output_type": "error",
     "traceback": [
      "\u001b[0;31m---------------------------------------------------------------------------\u001b[0m",
      "\u001b[0;31mValueError\u001b[0m                                Traceback (most recent call last)",
      "Cell \u001b[0;32mIn[43], line 1\u001b[0m\n\u001b[0;32m----> 1\u001b[0m total_sales \u001b[38;5;241m=\u001b[39m \u001b[43mprices\u001b[49m\u001b[38;5;241;43m.\u001b[39;49m\u001b[43mdot\u001b[49m\u001b[43m(\u001b[49m\u001b[43msales_amounts\u001b[49m\u001b[43m)\u001b[49m\n",
      "\u001b[0;31mValueError\u001b[0m: shapes (3,) and (5,3) not aligned: 3 (dim 0) != 5 (dim 0)"
     ]
    }
   ],
   "source": [
    "total_sales = prices.dot(sales_amounts)"
   ]
  },
  {
   "cell_type": "code",
   "execution_count": 47,
   "id": "e19c4523",
   "metadata": {},
   "outputs": [
    {
     "data": {
      "text/plain": [
       "array([240, 138, 458, 232, 142])"
      ]
     },
     "execution_count": 47,
     "metadata": {},
     "output_type": "execute_result"
    }
   ],
   "source": [
    "#Transpose because Shapes arent aligned\n",
    "total_sales=prices.dot(sales_amounts.T)\n",
    "total_sales"
   ]
  },
  {
   "cell_type": "code",
   "execution_count": 53,
   "id": "4ac9116b",
   "metadata": {},
   "outputs": [
    {
     "data": {
      "text/plain": [
       "((1, 3), (5, 3))"
      ]
     },
     "execution_count": 53,
     "metadata": {},
     "output_type": "execute_result"
    }
   ],
   "source": [
    "#Create daily sales\n",
    "butter_prices.shape,weekly_sales.shape"
   ]
  },
  {
   "cell_type": "code",
   "execution_count": 51,
   "id": "5aa48a84",
   "metadata": {},
   "outputs": [
    {
     "data": {
      "text/plain": [
       "(5, 3)"
      ]
     },
     "execution_count": 51,
     "metadata": {},
     "output_type": "execute_result"
    }
   ],
   "source": [
    "#Want to combuine daily sales and weekly sales in a dataframe\n",
    "weekly_sales.shape"
   ]
  },
  {
   "cell_type": "code",
   "execution_count": 55,
   "id": "8904452d",
   "metadata": {},
   "outputs": [
    {
     "data": {
      "text/html": [
       "<div>\n",
       "<style scoped>\n",
       "    .dataframe tbody tr th:only-of-type {\n",
       "        vertical-align: middle;\n",
       "    }\n",
       "\n",
       "    .dataframe tbody tr th {\n",
       "        vertical-align: top;\n",
       "    }\n",
       "\n",
       "    .dataframe thead th {\n",
       "        text-align: right;\n",
       "    }\n",
       "</style>\n",
       "<table border=\"1\" class=\"dataframe\">\n",
       "  <thead>\n",
       "    <tr style=\"text-align: right;\">\n",
       "      <th></th>\n",
       "      <th>Mon</th>\n",
       "      <th>Tues</th>\n",
       "      <th>Wed</th>\n",
       "      <th>Thurs</th>\n",
       "      <th>Fri</th>\n",
       "    </tr>\n",
       "  </thead>\n",
       "  <tbody>\n",
       "    <tr>\n",
       "      <th>Price</th>\n",
       "      <td>240</td>\n",
       "      <td>138</td>\n",
       "      <td>458</td>\n",
       "      <td>232</td>\n",
       "      <td>142</td>\n",
       "    </tr>\n",
       "  </tbody>\n",
       "</table>\n",
       "</div>"
      ],
      "text/plain": [
       "       Mon  Tues  Wed  Thurs  Fri\n",
       "Price  240   138  458    232  142"
      ]
     },
     "execution_count": 55,
     "metadata": {},
     "output_type": "execute_result"
    }
   ],
   "source": [
    "daily_sales = butter_prices.dot(weekly_sales.T)\n",
    "daily_sales"
   ]
  },
  {
   "cell_type": "code",
   "execution_count": 58,
   "id": "f8814b99",
   "metadata": {},
   "outputs": [
    {
     "ename": "ValueError",
     "evalue": "Cannot set a DataFrame with multiple columns to the single column Total($)",
     "output_type": "error",
     "traceback": [
      "\u001b[0;31m---------------------------------------------------------------------------\u001b[0m",
      "\u001b[0;31mValueError\u001b[0m                                Traceback (most recent call last)",
      "\u001b[0;32m/var/folders/vt/285ps1r53kx1zc0mx0_kdkt80000gn/T/ipykernel_1240/4282224023.py\u001b[0m in \u001b[0;36m?\u001b[0;34m()\u001b[0m\n\u001b[1;32m      1\u001b[0m \u001b[0;31m#how to get on the right hand side of the dataframe? new column?\u001b[0m\u001b[0;34m\u001b[0m\u001b[0;34m\u001b[0m\u001b[0m\n\u001b[0;32m----> 2\u001b[0;31m \u001b[0mweekly_sales\u001b[0m\u001b[0;34m[\u001b[0m\u001b[0;34m\"Total($)\"\u001b[0m\u001b[0;34m]\u001b[0m\u001b[0;34m=\u001b[0m\u001b[0mdaily_sales\u001b[0m\u001b[0;34m\u001b[0m\u001b[0;34m\u001b[0m\u001b[0m\n\u001b[0m\u001b[1;32m      3\u001b[0m \u001b[0mweekly_sales\u001b[0m\u001b[0;34m\u001b[0m\u001b[0;34m\u001b[0m\u001b[0m\n",
      "\u001b[0;32m~/miniconda3/lib/python3.10/site-packages/pandas/core/frame.py\u001b[0m in \u001b[0;36m?\u001b[0;34m(self, key, value)\u001b[0m\n\u001b[1;32m   3936\u001b[0m             \u001b[0mself\u001b[0m\u001b[0;34m.\u001b[0m\u001b[0m_setitem_frame\u001b[0m\u001b[0;34m(\u001b[0m\u001b[0mkey\u001b[0m\u001b[0;34m,\u001b[0m \u001b[0mvalue\u001b[0m\u001b[0;34m)\u001b[0m\u001b[0;34m\u001b[0m\u001b[0;34m\u001b[0m\u001b[0m\n\u001b[1;32m   3937\u001b[0m         \u001b[0;32melif\u001b[0m \u001b[0misinstance\u001b[0m\u001b[0;34m(\u001b[0m\u001b[0mkey\u001b[0m\u001b[0;34m,\u001b[0m \u001b[0;34m(\u001b[0m\u001b[0mSeries\u001b[0m\u001b[0;34m,\u001b[0m \u001b[0mnp\u001b[0m\u001b[0;34m.\u001b[0m\u001b[0mndarray\u001b[0m\u001b[0;34m,\u001b[0m \u001b[0mlist\u001b[0m\u001b[0;34m,\u001b[0m \u001b[0mIndex\u001b[0m\u001b[0;34m)\u001b[0m\u001b[0;34m)\u001b[0m\u001b[0;34m:\u001b[0m\u001b[0;34m\u001b[0m\u001b[0;34m\u001b[0m\u001b[0m\n\u001b[1;32m   3938\u001b[0m             \u001b[0mself\u001b[0m\u001b[0;34m.\u001b[0m\u001b[0m_setitem_array\u001b[0m\u001b[0;34m(\u001b[0m\u001b[0mkey\u001b[0m\u001b[0;34m,\u001b[0m \u001b[0mvalue\u001b[0m\u001b[0;34m)\u001b[0m\u001b[0;34m\u001b[0m\u001b[0;34m\u001b[0m\u001b[0m\n\u001b[1;32m   3939\u001b[0m         \u001b[0;32melif\u001b[0m \u001b[0misinstance\u001b[0m\u001b[0;34m(\u001b[0m\u001b[0mvalue\u001b[0m\u001b[0;34m,\u001b[0m \u001b[0mDataFrame\u001b[0m\u001b[0;34m)\u001b[0m\u001b[0;34m:\u001b[0m\u001b[0;34m\u001b[0m\u001b[0;34m\u001b[0m\u001b[0m\n\u001b[0;32m-> 3940\u001b[0;31m             \u001b[0mself\u001b[0m\u001b[0;34m.\u001b[0m\u001b[0m_set_item_frame_value\u001b[0m\u001b[0;34m(\u001b[0m\u001b[0mkey\u001b[0m\u001b[0;34m,\u001b[0m \u001b[0mvalue\u001b[0m\u001b[0;34m)\u001b[0m\u001b[0;34m\u001b[0m\u001b[0;34m\u001b[0m\u001b[0m\n\u001b[0m\u001b[1;32m   3941\u001b[0m         elif (\n\u001b[1;32m   3942\u001b[0m             \u001b[0mis_list_like\u001b[0m\u001b[0;34m(\u001b[0m\u001b[0mvalue\u001b[0m\u001b[0;34m)\u001b[0m\u001b[0;34m\u001b[0m\u001b[0;34m\u001b[0m\u001b[0m\n\u001b[1;32m   3943\u001b[0m             \u001b[0;32mand\u001b[0m \u001b[0;32mnot\u001b[0m \u001b[0mself\u001b[0m\u001b[0;34m.\u001b[0m\u001b[0mcolumns\u001b[0m\u001b[0;34m.\u001b[0m\u001b[0mis_unique\u001b[0m\u001b[0;34m\u001b[0m\u001b[0;34m\u001b[0m\u001b[0m\n",
      "\u001b[0;32m~/miniconda3/lib/python3.10/site-packages/pandas/core/frame.py\u001b[0m in \u001b[0;36m?\u001b[0;34m(self, key, value)\u001b[0m\n\u001b[1;32m   4090\u001b[0m             \u001b[0mself\u001b[0m\u001b[0;34m.\u001b[0m\u001b[0m_set_item_mgr\u001b[0m\u001b[0;34m(\u001b[0m\u001b[0mkey\u001b[0m\u001b[0;34m,\u001b[0m \u001b[0marraylike\u001b[0m\u001b[0;34m)\u001b[0m\u001b[0;34m\u001b[0m\u001b[0;34m\u001b[0m\u001b[0m\n\u001b[1;32m   4091\u001b[0m             \u001b[0;32mreturn\u001b[0m\u001b[0;34m\u001b[0m\u001b[0;34m\u001b[0m\u001b[0m\n\u001b[1;32m   4092\u001b[0m \u001b[0;34m\u001b[0m\u001b[0m\n\u001b[1;32m   4093\u001b[0m         \u001b[0;32mif\u001b[0m \u001b[0mlen\u001b[0m\u001b[0;34m(\u001b[0m\u001b[0mvalue\u001b[0m\u001b[0;34m.\u001b[0m\u001b[0mcolumns\u001b[0m\u001b[0;34m)\u001b[0m \u001b[0;34m!=\u001b[0m \u001b[0;36m1\u001b[0m\u001b[0;34m:\u001b[0m\u001b[0;34m\u001b[0m\u001b[0;34m\u001b[0m\u001b[0m\n\u001b[0;32m-> 4094\u001b[0;31m             raise ValueError(\n\u001b[0m\u001b[1;32m   4095\u001b[0m                 \u001b[0;34m\"Cannot set a DataFrame with multiple columns to the single \"\u001b[0m\u001b[0;34m\u001b[0m\u001b[0;34m\u001b[0m\u001b[0m\n\u001b[1;32m   4096\u001b[0m                 \u001b[0;34mf\"column {key}\"\u001b[0m\u001b[0;34m\u001b[0m\u001b[0;34m\u001b[0m\u001b[0m\n\u001b[1;32m   4097\u001b[0m             )\n",
      "\u001b[0;31mValueError\u001b[0m: Cannot set a DataFrame with multiple columns to the single column Total($)"
     ]
    }
   ],
   "source": [
    "#how to get on the right hand side of the dataframe? new column?\n",
    "#Not the right shape. doesnt work\n",
    "weekly_sales[\"Total($)\"]=daily_sales\n",
    "weekly_sales"
   ]
  },
  {
   "cell_type": "code",
   "execution_count": 59,
   "id": "8906c2b2",
   "metadata": {},
   "outputs": [
    {
     "data": {
      "text/plain": [
       "(1, 5)"
      ]
     },
     "execution_count": 59,
     "metadata": {},
     "output_type": "execute_result"
    }
   ],
   "source": [
    "daily_sales.shape"
   ]
  },
  {
   "cell_type": "code",
   "execution_count": 60,
   "id": "3fe66223",
   "metadata": {},
   "outputs": [
    {
     "data": {
      "text/plain": [
       "(5, 3)"
      ]
     },
     "execution_count": 60,
     "metadata": {},
     "output_type": "execute_result"
    }
   ],
   "source": [
    "weekly_sales.shape"
   ]
  },
  {
   "cell_type": "code",
   "execution_count": 61,
   "id": "1c31b23d",
   "metadata": {},
   "outputs": [
    {
     "data": {
      "text/html": [
       "<div>\n",
       "<style scoped>\n",
       "    .dataframe tbody tr th:only-of-type {\n",
       "        vertical-align: middle;\n",
       "    }\n",
       "\n",
       "    .dataframe tbody tr th {\n",
       "        vertical-align: top;\n",
       "    }\n",
       "\n",
       "    .dataframe thead th {\n",
       "        text-align: right;\n",
       "    }\n",
       "</style>\n",
       "<table border=\"1\" class=\"dataframe\">\n",
       "  <thead>\n",
       "    <tr style=\"text-align: right;\">\n",
       "      <th></th>\n",
       "      <th>Almond Butter</th>\n",
       "      <th>Peanut Butter</th>\n",
       "      <th>Cashew Butter</th>\n",
       "      <th>Total($)</th>\n",
       "    </tr>\n",
       "  </thead>\n",
       "  <tbody>\n",
       "    <tr>\n",
       "      <th>Mon</th>\n",
       "      <td>12</td>\n",
       "      <td>15</td>\n",
       "      <td>0</td>\n",
       "      <td>240</td>\n",
       "    </tr>\n",
       "    <tr>\n",
       "      <th>Tues</th>\n",
       "      <td>3</td>\n",
       "      <td>3</td>\n",
       "      <td>7</td>\n",
       "      <td>138</td>\n",
       "    </tr>\n",
       "    <tr>\n",
       "      <th>Wed</th>\n",
       "      <td>9</td>\n",
       "      <td>19</td>\n",
       "      <td>18</td>\n",
       "      <td>458</td>\n",
       "    </tr>\n",
       "    <tr>\n",
       "      <th>Thurs</th>\n",
       "      <td>4</td>\n",
       "      <td>6</td>\n",
       "      <td>12</td>\n",
       "      <td>232</td>\n",
       "    </tr>\n",
       "    <tr>\n",
       "      <th>Fri</th>\n",
       "      <td>1</td>\n",
       "      <td>6</td>\n",
       "      <td>7</td>\n",
       "      <td>142</td>\n",
       "    </tr>\n",
       "  </tbody>\n",
       "</table>\n",
       "</div>"
      ],
      "text/plain": [
       "       Almond Butter  Peanut Butter  Cashew Butter  Total($)\n",
       "Mon               12             15              0       240\n",
       "Tues               3              3              7       138\n",
       "Wed                9             19             18       458\n",
       "Thurs              4              6             12       232\n",
       "Fri                1              6              7       142"
      ]
     },
     "execution_count": 61,
     "metadata": {},
     "output_type": "execute_result"
    }
   ],
   "source": [
    "weekly_sales[\"Total($)\"]=daily_sales.T\n",
    "weekly_sales"
   ]
  },
  {
   "cell_type": "markdown",
   "id": "ac013124",
   "metadata": {},
   "source": [
    "### Comparison Operators"
   ]
  },
  {
   "cell_type": "code",
   "execution_count": 62,
   "id": "1b35299a",
   "metadata": {},
   "outputs": [
    {
     "data": {
      "text/plain": [
       "array([1, 2, 3])"
      ]
     },
     "execution_count": 62,
     "metadata": {},
     "output_type": "execute_result"
    }
   ],
   "source": [
    "a1"
   ]
  },
  {
   "cell_type": "code",
   "execution_count": 63,
   "id": "926c5319",
   "metadata": {},
   "outputs": [
    {
     "data": {
      "text/plain": [
       "array([[1. , 2. , 3.3],\n",
       "       [4. , 5. , 6.4]])"
      ]
     },
     "execution_count": 63,
     "metadata": {},
     "output_type": "execute_result"
    }
   ],
   "source": [
    "a2"
   ]
  },
  {
   "cell_type": "code",
   "execution_count": 64,
   "id": "993e770e",
   "metadata": {},
   "outputs": [
    {
     "data": {
      "text/plain": [
       "array([[False, False, False],\n",
       "       [False, False, False]])"
      ]
     },
     "execution_count": 64,
     "metadata": {},
     "output_type": "execute_result"
    }
   ],
   "source": [
    "a1 > a2"
   ]
  },
  {
   "cell_type": "code",
   "execution_count": 66,
   "id": "1199fd23",
   "metadata": {},
   "outputs": [
    {
     "data": {
      "text/plain": [
       "array([[ True,  True, False],\n",
       "       [False, False, False]])"
      ]
     },
     "execution_count": 66,
     "metadata": {},
     "output_type": "execute_result"
    }
   ],
   "source": [
    "a1 >= a2"
   ]
  },
  {
   "cell_type": "code",
   "execution_count": 67,
   "id": "f4c7e49a",
   "metadata": {},
   "outputs": [
    {
     "data": {
      "text/plain": [
       "array([[ True,  True, False],\n",
       "       [False, False, False]])"
      ]
     },
     "execution_count": 67,
     "metadata": {},
     "output_type": "execute_result"
    }
   ],
   "source": [
    "bool_array = a1 >= a2\n",
    "bool_array"
   ]
  },
  {
   "cell_type": "code",
   "execution_count": 68,
   "id": "e6c1cf33",
   "metadata": {},
   "outputs": [
    {
     "data": {
      "text/plain": [
       "(numpy.ndarray, dtype('bool'))"
      ]
     },
     "execution_count": 68,
     "metadata": {},
     "output_type": "execute_result"
    }
   ],
   "source": [
    "type(bool_array), bool_array.dtype"
   ]
  },
  {
   "cell_type": "code",
   "execution_count": 69,
   "id": "45ab3342",
   "metadata": {},
   "outputs": [
    {
     "data": {
      "text/plain": [
       "array([False, False, False])"
      ]
     },
     "execution_count": 69,
     "metadata": {},
     "output_type": "execute_result"
    }
   ],
   "source": [
    "a1 > 5"
   ]
  },
  {
   "cell_type": "code",
   "execution_count": 70,
   "id": "5662eeec",
   "metadata": {},
   "outputs": [
    {
     "data": {
      "text/plain": [
       "array([ True,  True,  True])"
      ]
     },
     "execution_count": 70,
     "metadata": {},
     "output_type": "execute_result"
    }
   ],
   "source": [
    "a1 < 5"
   ]
  },
  {
   "cell_type": "code",
   "execution_count": 71,
   "id": "11ccda8d",
   "metadata": {},
   "outputs": [
    {
     "data": {
      "text/plain": [
       "array([ True,  True,  True])"
      ]
     },
     "execution_count": 71,
     "metadata": {},
     "output_type": "execute_result"
    }
   ],
   "source": [
    "a1 == a1"
   ]
  },
  {
   "cell_type": "code",
   "execution_count": 72,
   "id": "d14f5c11",
   "metadata": {},
   "outputs": [
    {
     "data": {
      "text/plain": [
       "array([[ True,  True, False],\n",
       "       [False, False, False]])"
      ]
     },
     "execution_count": 72,
     "metadata": {},
     "output_type": "execute_result"
    }
   ],
   "source": [
    "a1 == a2 "
   ]
  },
  {
   "cell_type": "markdown",
   "id": "d682bb98",
   "metadata": {},
   "source": [
    "## 5. Sorting Arrays"
   ]
  },
  {
   "cell_type": "code",
   "execution_count": 75,
   "id": "7de11370",
   "metadata": {},
   "outputs": [
    {
     "data": {
      "text/plain": [
       "(3, 5)"
      ]
     },
     "execution_count": 75,
     "metadata": {},
     "output_type": "execute_result"
    }
   ],
   "source": [
    "random_array.shape"
   ]
  },
  {
   "cell_type": "code",
   "execution_count": 76,
   "id": "3a93a2fe",
   "metadata": {},
   "outputs": [
    {
     "data": {
      "text/plain": [
       "array([[1, 3, 3, 7, 9],\n",
       "       [3, 3, 8, 9, 9],\n",
       "       [0, 2, 3, 6, 9]])"
      ]
     },
     "execution_count": 76,
     "metadata": {},
     "output_type": "execute_result"
    }
   ],
   "source": [
    "np.sort(random_array)\n",
    "#returns an assorted copy of an array"
   ]
  },
  {
   "cell_type": "code",
   "execution_count": 77,
   "id": "07c4fdfe",
   "metadata": {},
   "outputs": [
    {
     "data": {
      "text/plain": [
       "array([[0, 1, 2, 4, 3],\n",
       "       [1, 3, 0, 2, 4],\n",
       "       [0, 3, 4, 1, 2]])"
      ]
     },
     "execution_count": 77,
     "metadata": {},
     "output_type": "execute_result"
    }
   ],
   "source": [
    "np.argsort(random_array)\n",
    "#"
   ]
  },
  {
   "cell_type": "code",
   "execution_count": 78,
   "id": "57b363d8",
   "metadata": {},
   "outputs": [
    {
     "data": {
      "text/plain": [
       "array([1, 2, 3])"
      ]
     },
     "execution_count": 78,
     "metadata": {},
     "output_type": "execute_result"
    }
   ],
   "source": [
    "a1"
   ]
  },
  {
   "cell_type": "code",
   "execution_count": 79,
   "id": "4657dd45",
   "metadata": {},
   "outputs": [
    {
     "data": {
      "text/plain": [
       "array([0, 1, 2])"
      ]
     },
     "execution_count": 79,
     "metadata": {},
     "output_type": "execute_result"
    }
   ],
   "source": [
    "np.argsort(a1)"
   ]
  },
  {
   "cell_type": "code",
   "execution_count": 80,
   "id": "888bbb4c",
   "metadata": {},
   "outputs": [
    {
     "data": {
      "text/plain": [
       "0"
      ]
     },
     "execution_count": 80,
     "metadata": {},
     "output_type": "execute_result"
    }
   ],
   "source": [
    "np.argmin(a1)"
   ]
  },
  {
   "cell_type": "code",
   "execution_count": 81,
   "id": "d39ad1a9",
   "metadata": {},
   "outputs": [
    {
     "data": {
      "text/plain": [
       "2"
      ]
     },
     "execution_count": 81,
     "metadata": {},
     "output_type": "execute_result"
    }
   ],
   "source": [
    "np.argmax(a1)"
   ]
  },
  {
   "cell_type": "code",
   "execution_count": 83,
   "id": "a0da3140",
   "metadata": {},
   "outputs": [
    {
     "data": {
      "text/plain": [
       "3"
      ]
     },
     "execution_count": 83,
     "metadata": {},
     "output_type": "execute_result"
    }
   ],
   "source": [
    "np.argmax(random_array)\n",
    "#Where the maximum value on axis = 0"
   ]
  },
  {
   "cell_type": "code",
   "execution_count": 86,
   "id": "32b5d6fc",
   "metadata": {},
   "outputs": [
    {
     "data": {
      "text/plain": [
       "array([[1, 3, 3, 9, 7],\n",
       "       [8, 3, 9, 3, 9],\n",
       "       [0, 6, 9, 2, 3]])"
      ]
     },
     "execution_count": 86,
     "metadata": {},
     "output_type": "execute_result"
    }
   ],
   "source": [
    "random_array"
   ]
  },
  {
   "cell_type": "code",
   "execution_count": 88,
   "id": "58caf93c",
   "metadata": {},
   "outputs": [
    {
     "data": {
      "text/plain": [
       "array([3, 2, 2])"
      ]
     },
     "execution_count": 88,
     "metadata": {},
     "output_type": "execute_result"
    }
   ],
   "source": [
    "np.argmax(random_array, axis=1)"
   ]
  },
  {
   "cell_type": "code",
   "execution_count": 87,
   "id": "2df1d505",
   "metadata": {},
   "outputs": [
    {
     "data": {
      "text/plain": [
       "array([1, 2, 1, 0, 1])"
      ]
     },
     "execution_count": 87,
     "metadata": {},
     "output_type": "execute_result"
    }
   ],
   "source": [
    "np.argmax(random_array, axis=0)"
   ]
  },
  {
   "cell_type": "markdown",
   "id": "78a7ce05",
   "metadata": {},
   "source": [
    "## 6. Practical Example - NumPy in Action"
   ]
  },
  {
   "cell_type": "markdown",
   "id": "5c8e6cd7",
   "metadata": {},
   "source": [
    "<img src =\"images/Tura.jpg\"/>"
   ]
  },
  {
   "cell_type": "code",
   "execution_count": 110,
   "id": "88ca7974",
   "metadata": {},
   "outputs": [],
   "source": [
    "#Turn an image into a NumPy array\n",
    "from matplotlib.image import imread"
   ]
  },
  {
   "cell_type": "code",
   "execution_count": 120,
   "id": "aeb42bc4",
   "metadata": {},
   "outputs": [
    {
     "name": "stdout",
     "output_type": "stream",
     "text": [
      "<class 'numpy.ndarray'>\n"
     ]
    }
   ],
   "source": [
    "tura = imread(\"images/Tura.jpg\")\n",
    "print(type(tura))"
   ]
  },
  {
   "cell_type": "code",
   "execution_count": 122,
   "id": "bed61af4",
   "metadata": {},
   "outputs": [
    {
     "data": {
      "text/plain": [
       "(9725952, (2048, 1583, 3), 3)"
      ]
     },
     "execution_count": 122,
     "metadata": {},
     "output_type": "execute_result"
    }
   ],
   "source": [
    "tura.size, tura.shape, tura.ndim\n"
   ]
  },
  {
   "cell_type": "markdown",
   "id": "9a451e62",
   "metadata": {},
   "source": [
    "imread takes picture and found pixel values and their color values and store them in the array. \n"
   ]
  },
  {
   "cell_type": "markdown",
   "id": "cdbabe95",
   "metadata": {},
   "source": [
    "<img src=\"images/eyes.jpg\"/>"
   ]
  },
  {
   "cell_type": "code",
   "execution_count": 123,
   "id": "3216da88",
   "metadata": {},
   "outputs": [
    {
     "name": "stdout",
     "output_type": "stream",
     "text": [
      "<class 'numpy.ndarray'>\n"
     ]
    }
   ],
   "source": [
    "eyes = imread(\"images/eyes.jpg\")\n",
    "print(type(eyes))"
   ]
  },
  {
   "cell_type": "code",
   "execution_count": 124,
   "id": "4b9f77c2",
   "metadata": {},
   "outputs": [
    {
     "data": {
      "text/plain": [
       "array([[230, 229, 229, ..., 230, 231, 231],\n",
       "       [229, 229, 228, ..., 229, 230, 230],\n",
       "       [228, 228, 228, ..., 229, 229, 230],\n",
       "       ...,\n",
       "       [243, 242, 241, ..., 240, 240, 241],\n",
       "       [243, 242, 241, ..., 240, 240, 241],\n",
       "       [244, 243, 241, ..., 239, 240, 240]], dtype=uint8)"
      ]
     },
     "execution_count": 124,
     "metadata": {},
     "output_type": "execute_result"
    }
   ],
   "source": [
    "eyes"
   ]
  },
  {
   "cell_type": "code",
   "execution_count": 125,
   "id": "be484bfb",
   "metadata": {},
   "outputs": [
    {
     "data": {
      "text/plain": [
       "array([[230, 229, 229, 228, 228, 227, 227, 227, 224, 225, 225, 226, 226,\n",
       "        225, 224, 224, 224, 224, 223, 224, 225, 227, 229, 230, 231, 231,\n",
       "        231, 230, 227, 225, 222, 220, 225, 225, 225, 226, 226, 226, 227,\n",
       "        227, 227, 228, 230, 232, 233, 233, 232, 232, 232, 233, 233, 234,\n",
       "        234, 233, 233, 232, 233, 233, 232, 230, 228, 228, 230, 232, 230,\n",
       "        230, 230, 230, 230, 229, 229, 229, 228, 230, 233, 234, 234, 234,\n",
       "        235, 237, 236, 235, 233, 231, 230, 230, 230, 231, 230, 230, 231,\n",
       "        231, 231, 231, 231, 232, 232, 233, 234, 235, 235, 235, 235, 235,\n",
       "        231, 232, 233, 234, 235, 236, 236, 236, 234, 233, 233, 232, 232,\n",
       "        233, 233, 234, 234, 235, 235, 236, 236, 235, 235, 234, 236, 235,\n",
       "        235, 234, 234, 235, 235, 236, 235, 235, 234, 236, 238, 238, 237,\n",
       "        235, 234, 231, 229, 228, 229, 230, 230, 230, 232, 232, 232, 232,\n",
       "        233, 234, 235, 236, 235, 234, 234, 233, 233, 234, 234, 235, 235,\n",
       "        235, 235, 235, 235, 235, 235, 235, 236, 236, 236, 235, 235, 234,\n",
       "        234, 234, 237, 237, 237, 236, 236, 236, 235, 235, 232, 233, 234,\n",
       "        235, 236, 237, 237, 238, 236, 237, 239, 241, 241, 239, 237, 236,\n",
       "        232, 232, 231, 232, 233, 232, 229, 226, 230, 230, 230, 230, 232,\n",
       "        233, 235, 236, 235, 235, 235, 235, 234, 233, 232, 231, 236, 235,\n",
       "        234, 234, 234, 235, 236, 236, 236, 236, 237, 238, 239, 238, 234,\n",
       "        231, 228, 230, 231, 232, 232, 234, 237, 239, 240, 239, 239, 239,\n",
       "        240, 242, 244, 246, 246, 244, 242, 242, 245, 245, 243, 240, 234,\n",
       "        234, 235, 235, 234, 233, 232, 232, 235, 236, 236, 236, 235, 232,\n",
       "        230, 229, 229, 229, 230, 230, 230, 230, 229, 229, 226, 227, 228,\n",
       "        231, 233, 235, 237, 238, 236, 236, 234, 234, 234, 235, 236, 237,\n",
       "        238, 238, 239, 239, 240, 240, 241, 241, 240, 241, 241, 240, 238,\n",
       "        237, 238, 239, 238, 237, 235, 235, 237, 237, 235, 234, 233, 233,\n",
       "        233, 233, 233, 233, 233, 233, 235, 236, 236, 236, 236, 235, 234,\n",
       "        233, 233, 234, 234, 235, 235, 236, 236, 237, 235, 235, 235, 235,\n",
       "        235, 235, 235, 235, 237, 236, 236, 235, 235, 234, 234, 233, 236,\n",
       "        235, 235, 234, 234, 235, 235, 236, 236, 236, 236, 235, 235, 234,\n",
       "        234, 234, 229, 229, 229, 230, 230, 230, 231, 231, 230, 231, 230,\n",
       "        226, 222, 221, 226, 230, 228, 228, 228, 230, 232, 233, 231, 229,\n",
       "        230, 231, 232, 232, 230, 230, 231, 232, 232, 232, 232, 231, 231,\n",
       "        231, 230, 230, 224, 224, 225, 226, 227, 229, 230, 230, 229, 229,\n",
       "        229, 230, 230, 231, 231]], dtype=uint8)"
      ]
     },
     "execution_count": 125,
     "metadata": {},
     "output_type": "execute_result"
    }
   ],
   "source": [
    "eyes[:1]"
   ]
  },
  {
   "cell_type": "code",
   "execution_count": null,
   "id": "acf2c322",
   "metadata": {},
   "outputs": [],
   "source": []
  }
 ],
 "metadata": {
  "kernelspec": {
   "display_name": "Python 3 (ipykernel)",
   "language": "python",
   "name": "python3"
  },
  "language_info": {
   "codemirror_mode": {
    "name": "ipython",
    "version": 3
   },
   "file_extension": ".py",
   "mimetype": "text/x-python",
   "name": "python",
   "nbconvert_exporter": "python",
   "pygments_lexer": "ipython3",
   "version": "3.10.9"
  }
 },
 "nbformat": 4,
 "nbformat_minor": 5
}
